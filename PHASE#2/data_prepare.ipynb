{
 "cells": [
  {
   "cell_type": "code",
   "execution_count": 2,
   "metadata": {},
   "outputs": [],
   "source": [
    "import os\n",
    "import os\n",
    "from sklearn.model_selection import train_test_split\n",
    "import os\n",
    "import pandas as pd\n",
    "import numpy as np\n",
    "import cv2\n",
    "from sklearn.model_selection import StratifiedKFold\n",
    "import albumentations as A\n",
    "from albumentations.pytorch import ToTensorV2\n",
    "import torch\n",
    "from torch.utils.data import Dataset, DataLoader"
   ]
  },
  {
   "cell_type": "code",
   "execution_count": 3,
   "metadata": {},
   "outputs": [
    {
     "name": "stdout",
     "output_type": "stream",
     "text": [
      "Folder: None, Number of images: 2236\n",
      "Folder: Few, Number of images: 6232\n",
      "Folder: Many, Number of images: 256\n"
     ]
    }
   ],
   "source": [
    "# Define the path to the data\n",
    "data_path = 'data'\n",
    "\n",
    "# List the folders in the data path\n",
    "folders = [f for f in os.listdir(data_path) if os.path.isdir(os.path.join(data_path, f))]\n",
    "\n",
    "# Initialize a dictionary to store the count of images in each folder\n",
    "image_counts = {}\n",
    "\n",
    "# Iterate through each folder and count the number of image files\n",
    "for folder in folders:\n",
    "    folder_path = os.path.join(data_path, folder)\n",
    "    image_files = [f for f in os.listdir(folder_path) if f.endswith(('.png', '.jpg', '.jpeg', '.bmp', '.gif'))]\n",
    "    image_counts[folder] = len(image_files)\n",
    "\n",
    "# Display the results\n",
    "for folder, count in image_counts.items():\n",
    "    print(f'Folder: {folder}, Number of images: {count}')"
   ]
  },
  {
   "cell_type": "code",
   "execution_count": 4,
   "metadata": {},
   "outputs": [],
   "source": [
    "# Initialize lists to store file paths and labels\n",
    "file_paths = []\n",
    "labels = []\n",
    "\n",
    "# Iterate through each folder and collect file paths and labels\n",
    "for folder in folders:\n",
    "    folder_path = os.path.join(data_path, folder)\n",
    "    image_files = [f for f in os.listdir(folder_path) if f.endswith(('.png', '.jpg', '.jpeg', '.bmp', '.gif'))]\n",
    "    file_paths.extend([os.path.join(folder_path, img) for img in image_files])\n",
    "    labels.extend([folder] * len(image_files))\n",
    "\n",
    "# Convert lists to numpy arrays\n",
    "file_paths = np.array(file_paths)\n",
    "labels = np.array(labels)"
   ]
  },
  {
   "cell_type": "code",
   "execution_count": 5,
   "metadata": {},
   "outputs": [
    {
     "name": "stdout",
     "output_type": "stream",
     "text": [
      "Number of images: 8724\n",
      "Number of labels: 8724\n"
     ]
    }
   ],
   "source": [
    "print(f'Number of images: {len(file_paths)}')\n",
    "print(f'Number of labels: {len(labels)}')"
   ]
  },
  {
   "cell_type": "code",
   "execution_count": 6,
   "metadata": {},
   "outputs": [],
   "source": [
    "# Initialize StratifiedKFold\n",
    "skf = StratifiedKFold(n_splits=10, shuffle=True, random_state=42)"
   ]
  },
  {
   "cell_type": "code",
   "execution_count": 7,
   "metadata": {},
   "outputs": [
    {
     "name": "stdout",
     "output_type": "stream",
     "text": [
      "Fold 1\n",
      "Training: 7851 samples\n",
      "Validation: 873 samples\n",
      "Training distribution: {'None': 2012, 'Few': 5609, 'Many': 230}\n",
      "Validation distribution: {'None': 224, 'Few': 623, 'Many': 26}\n",
      "---\n",
      "Fold 2\n",
      "Training: 7851 samples\n",
      "Validation: 873 samples\n",
      "Training distribution: {'None': 2012, 'Few': 5609, 'Many': 230}\n",
      "Validation distribution: {'None': 224, 'Few': 623, 'Many': 26}\n",
      "---\n",
      "Fold 3\n",
      "Training: 7851 samples\n",
      "Validation: 873 samples\n",
      "Training distribution: {'None': 2012, 'Few': 5609, 'Many': 230}\n",
      "Validation distribution: {'None': 224, 'Few': 623, 'Many': 26}\n",
      "---\n",
      "Fold 4\n",
      "Training: 7851 samples\n",
      "Validation: 873 samples\n",
      "Training distribution: {'None': 2012, 'Few': 5609, 'Many': 230}\n",
      "Validation distribution: {'None': 224, 'Few': 623, 'Many': 26}\n",
      "---\n",
      "Fold 5\n",
      "Training: 7852 samples\n",
      "Validation: 872 samples\n",
      "Training distribution: {'None': 2012, 'Few': 5609, 'Many': 231}\n",
      "Validation distribution: {'None': 224, 'Few': 623, 'Many': 25}\n",
      "---\n",
      "Fold 6\n",
      "Training: 7852 samples\n",
      "Validation: 872 samples\n",
      "Training distribution: {'None': 2012, 'Few': 5609, 'Many': 231}\n",
      "Validation distribution: {'None': 224, 'Few': 623, 'Many': 25}\n",
      "---\n",
      "Fold 7\n",
      "Training: 7852 samples\n",
      "Validation: 872 samples\n",
      "Training distribution: {'None': 2013, 'Few': 5608, 'Many': 231}\n",
      "Validation distribution: {'None': 223, 'Few': 624, 'Many': 25}\n",
      "---\n",
      "Fold 8\n",
      "Training: 7852 samples\n",
      "Validation: 872 samples\n",
      "Training distribution: {'None': 2013, 'Few': 5608, 'Many': 231}\n",
      "Validation distribution: {'None': 223, 'Few': 624, 'Many': 25}\n",
      "---\n",
      "Fold 9\n",
      "Training: 7852 samples\n",
      "Validation: 872 samples\n",
      "Training distribution: {'None': 2013, 'Few': 5609, 'Many': 230}\n",
      "Validation distribution: {'None': 223, 'Few': 623, 'Many': 26}\n",
      "---\n",
      "Fold 10\n",
      "Training: 7852 samples\n",
      "Validation: 872 samples\n",
      "Training distribution: {'None': 2013, 'Few': 5609, 'Many': 230}\n",
      "Validation distribution: {'None': 223, 'Few': 623, 'Many': 26}\n",
      "---\n"
     ]
    }
   ],
   "source": [
    "from collections import Counter\n",
    "\n",
    "# Perform stratified k-fold split\n",
    "for fold, (train_index, val_index) in enumerate(skf.split(file_paths, labels)):\n",
    "    train_files, val_files = file_paths[train_index], file_paths[val_index]\n",
    "    train_labels, val_labels = labels[train_index], labels[val_index]\n",
    "    \n",
    "    # Calculate the distribution of classes in training and validation sets\n",
    "    train_distribution = Counter(train_labels)\n",
    "    val_distribution = Counter(val_labels)\n",
    "    \n",
    "    print(f'Fold {fold + 1}')\n",
    "    print(f'Training: {len(train_files)} samples')\n",
    "    print(f'Validation: {len(val_files)} samples')\n",
    "    print('Training distribution:', dict(train_distribution))\n",
    "    print('Validation distribution:', dict(val_distribution))\n",
    "    print('---')\n"
   ]
  }
 ],
 "metadata": {
  "kernelspec": {
   "display_name": ".venv",
   "language": "python",
   "name": "python3"
  },
  "language_info": {
   "codemirror_mode": {
    "name": "ipython",
    "version": 3
   },
   "file_extension": ".py",
   "mimetype": "text/x-python",
   "name": "python",
   "nbconvert_exporter": "python",
   "pygments_lexer": "ipython3",
   "version": "3.11.2"
  }
 },
 "nbformat": 4,
 "nbformat_minor": 2
}
