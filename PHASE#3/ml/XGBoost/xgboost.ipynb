{
 "cells": [
  {
   "cell_type": "code",
   "execution_count": 1,
   "metadata": {},
   "outputs": [],
   "source": [
    "import os\n",
    "import json\n",
    "import xgboost as xgb\n",
    "from metrics import *\n",
    "from sklearn.metrics import make_scorer, cohen_kappa_score, balanced_accuracy_score, roc_auc_score, f1_score\n",
    "from sklearn.model_selection import RandomizedSearchCV, StratifiedKFold\n",
    "from sklearn.metrics import make_scorer\n",
    "import numpy as np"
   ]
  },
  {
   "cell_type": "code",
   "execution_count": 2,
   "metadata": {},
   "outputs": [
    {
     "data": {
      "text/plain": [
       "((8724, 2048), (8724,))"
      ]
     },
     "execution_count": 2,
     "metadata": {},
     "output_type": "execute_result"
    }
   ],
   "source": [
    "# Load features and labels\n",
    "X = np.load('../../features.npy')\n",
    "y = np.load('../../labels.npy')\n",
    "\n",
    "X.shape, y.shape"
   ]
  },
  {
   "cell_type": "code",
   "execution_count": 3,
   "metadata": {},
   "outputs": [
    {
     "name": "stdout",
     "output_type": "stream",
     "text": [
      "Number of samples in each class:\n",
      "(array([0, 1, 2]), array([6232,  256, 2236]))\n",
      "Class names:\n",
      "['Few', 'Many', 'None']\n"
     ]
    }
   ],
   "source": [
    "# Count the number of samples in each class\n",
    "print('Number of samples in each class:')\n",
    "print(np.unique(y, return_counts=True))\n",
    "\n",
    "# Define class names\n",
    "class_names = [\"Few\", \"Many\", \"None\"]\n",
    "print('Class names:')\n",
    "print(class_names)"
   ]
  },
  {
   "cell_type": "code",
   "execution_count": 4,
   "metadata": {},
   "outputs": [],
   "source": [
    "os.makedirs('logs', exist_ok=True)\n",
    "os.makedirs('figures', exist_ok=True)"
   ]
  },
  {
   "cell_type": "code",
   "execution_count": 5,
   "metadata": {},
   "outputs": [
    {
     "name": "stderr",
     "output_type": "stream",
     "text": [
      "/home/samo/dev/liver/.venv/lib/python3.11/site-packages/sklearn/metrics/_scorer.py:610: FutureWarning: The `needs_threshold` and `needs_proba` parameter are deprecated in version 1.4 and will be removed in 1.6. You can either let `response_method` be `None` or set it to `predict` to preserve the same behaviour.\n",
      "  warnings.warn(\n"
     ]
    }
   ],
   "source": [
    "def custom_scorer(y_true, y_pred):\n",
    "    if y_pred.ndim == 2:\n",
    "        y_pred_class = np.argmax(y_pred, axis=1)\n",
    "    else:\n",
    "        y_pred_class = y_pred\n",
    "\n",
    "    auc = roc_auc_score(y_true, y_pred, average='macro', multi_class='ovo')\n",
    "    f1 = f1_score(y_true, y_pred_class, average='macro')\n",
    "    kappa = cohen_kappa_score(y_true, y_pred_class)\n",
    "    balanced_acc = balanced_accuracy_score(y_true, y_pred_class)\n",
    "    \n",
    "    return 0.3 * auc + 0.3 * f1 + 0.2 * kappa + 0.2 * balanced_acc\n",
    "\n",
    "custom_score = make_scorer(custom_scorer, greater_is_better=True, needs_proba=True)"
   ]
  },
  {
   "cell_type": "code",
   "execution_count": 12,
   "metadata": {},
   "outputs": [],
   "source": [
    "import cupy as cp\n",
    "\n",
    "# Convert your data to GPU\n",
    "X_gpu = cp.array(X)\n",
    "y_gpu = cp.array(y)\n"
   ]
  },
  {
   "cell_type": "code",
   "execution_count": 7,
   "metadata": {},
   "outputs": [],
   "source": [
    "xgb_clf = xgb.XGBClassifier(objective='multi:softprob', device= \"cuda\", num_class=3, random_state=42)\n",
    "\n",
    "param_grid = {\n",
    "    'n_estimators': [100, 200, 500],\n",
    "    'max_depth': [3, 5, 7, 9],\n",
    "    'learning_rate': [0.01, 0.1, 0.3],\n",
    "    'subsample': [0.8, 1.0],\n",
    "    'colsample_bytree': [0.8, 1.0],\n",
    "    'gamma': [0, 0.1, 0.2],\n",
    "    'min_child_weight': [1, 3, 5]\n",
    "}"
   ]
  },
  {
   "cell_type": "code",
   "execution_count": 13,
   "metadata": {},
   "outputs": [
    {
     "name": "stdout",
     "output_type": "stream",
     "text": [
      "Fitting 5 folds for each of 100 candidates, totalling 500 fits\n",
      "[CV 1/5] END colsample_bytree=0.8, gamma=0.2, learning_rate=0.3, max_depth=5, min_child_weight=1, n_estimators=500, subsample=0.8;, score=0.924 total time=   8.1s\n",
      "[CV 2/5] END colsample_bytree=0.8, gamma=0.2, learning_rate=0.3, max_depth=5, min_child_weight=1, n_estimators=500, subsample=0.8;, score=0.935 total time=   8.4s\n",
      "[CV 3/5] END colsample_bytree=0.8, gamma=0.2, learning_rate=0.3, max_depth=5, min_child_weight=1, n_estimators=500, subsample=0.8;, score=0.970 total time=   7.4s\n",
      "[CV 4/5] END colsample_bytree=0.8, gamma=0.2, learning_rate=0.3, max_depth=5, min_child_weight=1, n_estimators=500, subsample=0.8;, score=0.969 total time=   8.0s\n",
      "[CV 5/5] END colsample_bytree=0.8, gamma=0.2, learning_rate=0.3, max_depth=5, min_child_weight=1, n_estimators=500, subsample=0.8;, score=0.972 total time=   7.2s\n",
      "[CV 1/5] END colsample_bytree=0.8, gamma=0.1, learning_rate=0.1, max_depth=9, min_child_weight=1, n_estimators=500, subsample=0.8;, score=0.929 total time=  15.0s\n",
      "[CV 2/5] END colsample_bytree=0.8, gamma=0.1, learning_rate=0.1, max_depth=9, min_child_weight=1, n_estimators=500, subsample=0.8;, score=0.939 total time=  15.4s\n",
      "[CV 3/5] END colsample_bytree=0.8, gamma=0.1, learning_rate=0.1, max_depth=9, min_child_weight=1, n_estimators=500, subsample=0.8;, score=0.970 total time=  16.3s\n",
      "[CV 4/5] END colsample_bytree=0.8, gamma=0.1, learning_rate=0.1, max_depth=9, min_child_weight=1, n_estimators=500, subsample=0.8;, score=0.971 total time=  19.1s\n",
      "[CV 5/5] END colsample_bytree=0.8, gamma=0.1, learning_rate=0.1, max_depth=9, min_child_weight=1, n_estimators=500, subsample=0.8;, score=0.970 total time=  19.2s\n",
      "[CV 1/5] END colsample_bytree=1.0, gamma=0, learning_rate=0.1, max_depth=5, min_child_weight=3, n_estimators=100, subsample=1.0;, score=0.929 total time=   4.8s\n",
      "[CV 2/5] END colsample_bytree=1.0, gamma=0, learning_rate=0.1, max_depth=5, min_child_weight=3, n_estimators=100, subsample=1.0;, score=0.935 total time=   4.9s\n",
      "[CV 3/5] END colsample_bytree=1.0, gamma=0, learning_rate=0.1, max_depth=5, min_child_weight=3, n_estimators=100, subsample=1.0;, score=0.969 total time=   4.7s\n",
      "[CV 4/5] END colsample_bytree=1.0, gamma=0, learning_rate=0.1, max_depth=5, min_child_weight=3, n_estimators=100, subsample=1.0;, score=0.970 total time=   4.7s\n",
      "[CV 5/5] END colsample_bytree=1.0, gamma=0, learning_rate=0.1, max_depth=5, min_child_weight=3, n_estimators=100, subsample=1.0;, score=0.967 total time=   5.0s\n",
      "[CV 1/5] END colsample_bytree=1.0, gamma=0.1, learning_rate=0.3, max_depth=5, min_child_weight=1, n_estimators=200, subsample=1.0;, score=0.930 total time=   4.5s\n",
      "[CV 2/5] END colsample_bytree=1.0, gamma=0.1, learning_rate=0.3, max_depth=5, min_child_weight=1, n_estimators=200, subsample=1.0;, score=0.938 total time=   3.9s\n",
      "[CV 3/5] END colsample_bytree=1.0, gamma=0.1, learning_rate=0.3, max_depth=5, min_child_weight=1, n_estimators=200, subsample=1.0;, score=0.968 total time=   4.2s\n",
      "[CV 4/5] END colsample_bytree=1.0, gamma=0.1, learning_rate=0.3, max_depth=5, min_child_weight=1, n_estimators=200, subsample=1.0;, score=0.970 total time=   4.1s\n",
      "[CV 5/5] END colsample_bytree=1.0, gamma=0.1, learning_rate=0.3, max_depth=5, min_child_weight=1, n_estimators=200, subsample=1.0;, score=0.967 total time=   4.0s\n",
      "[CV 1/5] END colsample_bytree=1.0, gamma=0.2, learning_rate=0.1, max_depth=3, min_child_weight=3, n_estimators=100, subsample=0.8;, score=0.931 total time=   2.5s\n",
      "[CV 2/5] END colsample_bytree=1.0, gamma=0.2, learning_rate=0.1, max_depth=3, min_child_weight=3, n_estimators=100, subsample=0.8;, score=0.931 total time=   2.9s\n",
      "[CV 3/5] END colsample_bytree=1.0, gamma=0.2, learning_rate=0.1, max_depth=3, min_child_weight=3, n_estimators=100, subsample=0.8;, score=0.970 total time=   2.5s\n",
      "[CV 4/5] END colsample_bytree=1.0, gamma=0.2, learning_rate=0.1, max_depth=3, min_child_weight=3, n_estimators=100, subsample=0.8;, score=0.972 total time=   2.6s\n",
      "[CV 5/5] END colsample_bytree=1.0, gamma=0.2, learning_rate=0.1, max_depth=3, min_child_weight=3, n_estimators=100, subsample=0.8;, score=0.969 total time=   2.4s\n",
      "[CV 1/5] END colsample_bytree=1.0, gamma=0.1, learning_rate=0.1, max_depth=7, min_child_weight=5, n_estimators=200, subsample=0.8;, score=0.929 total time=   8.2s\n"
     ]
    }
   ],
   "source": [
    "random_search = RandomizedSearchCV(\n",
    "    estimator=xgb_clf,\n",
    "    param_distributions=param_grid,\n",
    "    n_iter=100,\n",
    "    cv=5,\n",
    "    verbose=3,\n",
    "    random_state=42,\n",
    "    # n_jobs=6,\n",
    "    scoring=custom_score\n",
    ")\n",
    "\n",
    "random_search.fit(X_gpu.get(), y_gpu.get())"
   ]
  },
  {
   "cell_type": "code",
   "execution_count": null,
   "metadata": {},
   "outputs": [],
   "source": [
    "# Save the best model\n",
    "with open('best_model.json', 'w') as f:\n",
    "    json.dump(random_search.best_params_, f)"
   ]
  },
  {
   "cell_type": "code",
   "execution_count": null,
   "metadata": {},
   "outputs": [
    {
     "ename": "AttributeError",
     "evalue": "'RandomizedSearchCV' object has no attribute 'best_params_'",
     "output_type": "error",
     "traceback": [
      "\u001b[0;31m---------------------------------------------------------------------------\u001b[0m",
      "\u001b[0;31mAttributeError\u001b[0m                            Traceback (most recent call last)",
      "Cell \u001b[0;32mIn[8], line 1\u001b[0m\n\u001b[0;32m----> 1\u001b[0m \u001b[43mrandom_search\u001b[49m\u001b[38;5;241;43m.\u001b[39;49m\u001b[43mbest_params_\u001b[49m\n",
      "\u001b[0;31mAttributeError\u001b[0m: 'RandomizedSearchCV' object has no attribute 'best_params_'"
     ]
    }
   ],
   "source": [
    "random_search.best_params_"
   ]
  },
  {
   "cell_type": "code",
   "execution_count": null,
   "metadata": {},
   "outputs": [],
   "source": [
    "best_xgb = random_search.best_estimator_\n",
    "\n",
    "# Perform cross-validation with the best model\n",
    "cv = StratifiedKFold(n_splits=10, shuffle=True, random_state=42)\n",
    "\n",
    "fold_results = []\n",
    "\n",
    "for fold, (train_index, val_index) in enumerate(cv.split(X, y), 1):\n",
    "    X_train, X_val = X[train_index], X[val_index]\n",
    "    y_train, y_val = y[train_index], y[val_index]\n",
    "    \n",
    "    best_xgb.fit(X_train, y_train)\n",
    "    y_pred = best_xgb.predict(X_val)\n",
    "    y_prob = best_xgb.predict_proba(X_val)\n",
    "    \n",
    "    # Calculate metrics\n",
    "    accuracy, class_metrics, auc, f1, cm, avg_sensitivity, avg_specificity = calculate_metrics(y_val, y_pred, y_prob)\n",
    "    \n",
    "    # Calculate AUC for double dichotomy\n",
    "    double_dichotomy_auc = calculate_double_dichotomy_auc(y_val, y_prob)\n",
    "    \n",
    "    # Log metrics for this fold\n",
    "    metrics = {\n",
    "        'fold': fold,\n",
    "        'val_accuracy': accuracy,\n",
    "        'val_auc': auc,\n",
    "        'val_f1': f1,\n",
    "        'avg_sensitivity': avg_sensitivity,\n",
    "        'avg_specificity': avg_specificity,\n",
    "        **double_dichotomy_auc,\n",
    "        **{f'class_{class_names[i]}_sensitivity': metrics[\"sensitivity\"] for i, metrics in enumerate(class_metrics)},\n",
    "        **{f'class_{class_names[i]}_specificity': metrics[\"specificity\"] for i, metrics in enumerate(class_metrics)},\n",
    "        **{f'class_{class_names[i]}_f1': 2 * metrics[\"sensitivity\"] * metrics[\"specificity\"] / (metrics[\"sensitivity\"] + metrics[\"specificity\"]) for i, metrics in enumerate(class_metrics)}\n",
    "    }\n",
    "    \n",
    "    custom_log(metrics, model_name='xgboost_optimized', log_dir='logs')\n",
    "    \n",
    "    # Plot confusion matrix for this fold\n",
    "    plot_confusion_matrix(cm, class_names=class_names, epoch_num=0, model_name='xgboost_optimized', fold_num=fold)\n",
    "    \n",
    "    fold_results.append(metrics)\n",
    "\n",
    "# Calculate and print average results across all folds\n",
    "avg_results = {key: np.mean([fold[key] for fold in fold_results if key in fold]) \n",
    "               for key in fold_results[0].keys() if key != 'fold'}\n",
    "\n",
    "print(\"Average results across all folds:\")\n",
    "for key, value in avg_results.items():\n",
    "    print(f\"{key}: {value}\")\n",
    "\n",
    "# Log average results\n",
    "custom_log(avg_results, model_name='xgboost_optimized_average', log_dir='logs')"
   ]
  }
 ],
 "metadata": {
  "kernelspec": {
   "display_name": ".venv",
   "language": "python",
   "name": "python3"
  },
  "language_info": {
   "codemirror_mode": {
    "name": "ipython",
    "version": 3
   },
   "file_extension": ".py",
   "mimetype": "text/x-python",
   "name": "python",
   "nbconvert_exporter": "python",
   "pygments_lexer": "ipython3",
   "version": "3.11.2"
  }
 },
 "nbformat": 4,
 "nbformat_minor": 2
}
