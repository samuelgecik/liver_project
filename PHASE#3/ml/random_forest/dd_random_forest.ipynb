{
 "cells": [
  {
   "cell_type": "code",
   "execution_count": 1,
   "metadata": {},
   "outputs": [],
   "source": [
    "import numpy as np\n",
    "import pandas as pd\n",
    "from sklearn.ensemble import RandomForestClassifier\n",
    "from sklearn.model_selection import StratifiedKFold, RandomizedSearchCV\n",
    "from sklearn.metrics import make_scorer, accuracy_score, roc_auc_score, f1_score, confusion_matrix\n",
    "import json\n",
    "import os\n",
    "from metrics import *\n"
   ]
  },
  {
   "cell_type": "code",
   "execution_count": 2,
   "metadata": {},
   "outputs": [
    {
     "data": {
      "text/plain": [
       "((8724, 2048), (8724,))"
      ]
     },
     "execution_count": 2,
     "metadata": {},
     "output_type": "execute_result"
    }
   ],
   "source": [
    "# Load features and labels\n",
    "X = np.load('../../features.npy')\n",
    "y = np.load('../../labels.npy')\n",
    "\n",
    "X.shape, y.shape"
   ]
  },
  {
   "cell_type": "code",
   "execution_count": 3,
   "metadata": {},
   "outputs": [
    {
     "name": "stdout",
     "output_type": "stream",
     "text": [
      "Number of samples in each class:\n",
      "(array([0, 1, 2]), array([6232,  256, 2236]))\n",
      "Class names:\n",
      "['Few', 'Many', 'None']\n"
     ]
    }
   ],
   "source": [
    "# Count the number of samples in each class\n",
    "print('Number of samples in each class:')\n",
    "print(np.unique(y, return_counts=True))\n",
    "\n",
    "# Define class names\n",
    "class_names = [\"Few\", \"Many\", \"None\"]\n",
    "print('Class names:')\n",
    "print(class_names)"
   ]
  },
  {
   "cell_type": "code",
   "execution_count": 4,
   "metadata": {},
   "outputs": [
    {
     "name": "stdout",
     "output_type": "stream",
     "text": [
      "Number of samples in each class:\n",
      "(array([0., 1.]), array([6488, 2236]))\n",
      "Binary class names:\n",
      "['Normal', 'Abnormal']\n"
     ]
    }
   ],
   "source": [
    "# Divide the data into 2 classes only (Normal and Abnormal)\n",
    "y_binary = np.zeros(y.shape)\n",
    "y_binary[y != 2] = 0 # Few and Many\n",
    "y_binary[y == 2] = 1 # None\n",
    "\n",
    "# Check the number of samples in each class\n",
    "print('Number of samples in each class:')\n",
    "print(np.unique(y_binary, return_counts=True))\n",
    "\n",
    "# Define the new class names\n",
    "binary_class_names = [\"Normal\", \"Abnormal\"]\n",
    "print('Binary class names:')\n",
    "print(binary_class_names)"
   ]
  },
  {
   "cell_type": "code",
   "execution_count": 14,
   "metadata": {},
   "outputs": [],
   "source": [
    "os.makedirs('logs_dd', exist_ok=True)\n",
    "os.makedirs('figures_dd', exist_ok=True)"
   ]
  },
  {
   "cell_type": "code",
   "execution_count": 5,
   "metadata": {},
   "outputs": [],
   "source": [
    "# Define the parameter grid\n",
    "param_grid = {\n",
    "    'n_estimators': [100, 200, 500],\n",
    "    'max_depth': [None, 10, 20, 30],\n",
    "    'min_samples_split': [2, 5, 10],\n",
    "    'min_samples_leaf': [1, 2, 4],\n",
    "    'class_weight': ['balanced', 'balanced_subsample', None]\n",
    "}\n",
    "\n",
    "custom_score = make_scorer(custom_scorer, greater_is_better=True)"
   ]
  },
  {
   "cell_type": "code",
   "execution_count": 6,
   "metadata": {},
   "outputs": [],
   "source": [
    "# Initialize the Random Forest classifier\n",
    "rf = RandomForestClassifier(random_state=42)\n",
    "\n",
    "# Define the cross-validation strategy\n",
    "cv = StratifiedKFold(n_splits=5, shuffle=True, random_state=42)\n",
    "\n",
    "# Initialize RandomizedSearchCV\n",
    "random_search = RandomizedSearchCV(\n",
    "    estimator=rf, \n",
    "    param_distributions=param_grid,\n",
    "    n_iter=100, \n",
    "    cv=cv, \n",
    "    verbose=2, \n",
    "    random_state=42, \n",
    "    n_jobs=-1,\n",
    "    scoring=custom_score\n",
    ")\n"
   ]
  },
  {
   "cell_type": "code",
   "execution_count": null,
   "metadata": {},
   "outputs": [],
   "source": [
    "# Fit the RandomizedSearchCV\n",
    "random_search.fit(X, y_binary)"
   ]
  },
  {
   "cell_type": "code",
   "execution_count": 8,
   "metadata": {},
   "outputs": [],
   "source": [
    "# Save best parameters\n",
    "with open('dd_normal_vs_abnormal_best_params.json', 'w') as f:\n",
    "    json.dump(random_search.best_params_, f, indent=4)"
   ]
  },
  {
   "cell_type": "code",
   "execution_count": 8,
   "metadata": {},
   "outputs": [
    {
     "name": "stdout",
     "output_type": "stream",
     "text": [
      "Fold 1\n",
      "Metrics for this fold:\n",
      "{'fold': 1, 'val_accuracy': 0.9759312320916905, 'val_auc': 0.9916176323581625, 'val_f1': 0.9518348623853211, 'avg_sensitivity': 0.9603537364315433, 'avg_specificity': 0.9603537364315433, 'class_Normal_sensitivity': 0.9922958397534669, 'class_Abnormal_sensitivity': 0.9284116331096197, 'class_Normal_specificity': 0.9284116331096197, 'class_Abnormal_specificity': 0.9922958397534669, 'class_Normal_f1': 0.9592913175270055, 'class_Abnormal_f1': 0.9592913175270055}\n",
      "Fold 2\n",
      "Metrics for this fold:\n",
      "{'fold': 2, 'val_accuracy': 0.9736389684813753, 'val_auc': 0.9949078430764245, 'val_f1': 0.9484304932735426, 'avg_sensitivity': 0.964679786144921, 'avg_specificity': 0.964679786144921, 'class_Normal_sensitivity': 0.9830508474576272, 'class_Abnormal_sensitivity': 0.9463087248322147, 'class_Normal_specificity': 0.9463087248322147, 'class_Abnormal_specificity': 0.9830508474576272, 'class_Normal_f1': 0.9643299333765698, 'class_Abnormal_f1': 0.9643299333765698}\n",
      "Fold 3\n",
      "Metrics for this fold:\n",
      "{'fold': 3, 'val_accuracy': 0.9782234957020057, 'val_auc': 0.9957049737507023, 'val_f1': 0.9576837416481069, 'avg_sensitivity': 0.9728949717858829, 'avg_specificity': 0.9728949717858829, 'class_Normal_sensitivity': 0.9838212634822804, 'class_Abnormal_sensitivity': 0.9619686800894854, 'class_Normal_specificity': 0.9619686800894854, 'class_Abnormal_specificity': 0.9838212634822804, 'class_Normal_f1': 0.9727722618801923, 'class_Abnormal_f1': 0.9727722618801923}\n",
      "Fold 4\n",
      "Metrics for this fold:\n",
      "{'fold': 4, 'val_accuracy': 0.9713467048710601, 'val_auc': 0.9916780826632889, 'val_f1': 0.9434389140271493, 'avg_sensitivity': 0.9580771904945478, 'avg_specificity': 0.9580771904945478, 'class_Normal_sensitivity': 0.9853508095605242, 'class_Abnormal_sensitivity': 0.9308035714285714, 'class_Normal_specificity': 0.9308035714285714, 'class_Abnormal_specificity': 0.9853508095605242, 'class_Normal_f1': 0.9573007913647742, 'class_Abnormal_f1': 0.9573007913647742}\n",
      "Fold 5\n",
      "Metrics for this fold:\n",
      "{'fold': 5, 'val_accuracy': 0.9782110091743119, 'val_auc': 0.9905469341571239, 'val_f1': 0.9573991031390134, 'avg_sensitivity': 0.9706895451385835, 'avg_specificity': 0.9706895451385835, 'class_Normal_sensitivity': 0.9861218195836546, 'class_Abnormal_sensitivity': 0.9552572706935123, 'class_Normal_specificity': 0.9552572706935123, 'class_Abnormal_specificity': 0.9861218195836546, 'class_Normal_f1': 0.9704441988321967, 'class_Abnormal_f1': 0.9704441988321967}\n",
      "Average results across all folds:\n",
      "val_accuracy: 0.9754702820640887\n",
      "val_auc: 0.9928910932011406\n",
      "val_f1: 0.9517574228946266\n",
      "avg_sensitivity: 0.9653390459990957\n",
      "avg_specificity: 0.9653390459990957\n",
      "class_Normal_sensitivity: 0.9861281159675107\n",
      "class_Abnormal_sensitivity: 0.9445499760306808\n",
      "class_Normal_specificity: 0.9445499760306808\n",
      "class_Abnormal_specificity: 0.9861281159675107\n",
      "class_Normal_f1: 0.9648277005961476\n",
      "class_Abnormal_f1: 0.9648277005961476\n"
     ]
    }
   ],
   "source": [
    "# # Get the best parameters\n",
    "# best_params = random_search.best_params_\n",
    "# print(\"Best parameters:\", best_params)\n",
    "\n",
    "# Load the best parameters from a json file\n",
    "with open('dd_normal_vs_abnormal_best_params.json', 'r') as f:\n",
    "    best_params = json.load(f)\n",
    "\n",
    "# Now, let's perform a final 10-fold cross-validation using the best model\n",
    "best_rf = RandomForestClassifier(**best_params, random_state=42)\n",
    "\n",
    "fold_results = []\n",
    "\n",
    "for fold, (train_index, val_index) in enumerate(cv.split(X, y_binary), 1):\n",
    "    print(f\"Fold {fold}\")\n",
    "    X_train, X_val = X[train_index], X[val_index]\n",
    "    y_train, y_val = y_binary[train_index], y_binary[val_index]\n",
    "    \n",
    "    best_rf.fit(X_train, y_train)\n",
    "    y_pred = best_rf.predict(X_val)\n",
    "    y_prob = best_rf.predict_proba(X_val)\n",
    "    \n",
    "    # Calculate metrics\n",
    "    accuracy, class_metrics, auc, f1, cm, avg_sensitivity, avg_specificity = calculate_metrics(y_val, y_pred, y_prob, num_classes=2)\n",
    "\n",
    "    # Log metrics for this fold\n",
    "    metrics = {\n",
    "        'fold': fold,\n",
    "        'val_accuracy': accuracy,\n",
    "        'val_auc': auc,\n",
    "        'val_f1': f1,\n",
    "        'avg_sensitivity': avg_sensitivity,\n",
    "        'avg_specificity': avg_specificity,\n",
    "        **{f'class_{binary_class_names[i]}_sensitivity': metrics[\"sensitivity\"] for i, metrics in enumerate(class_metrics)},\n",
    "        **{f'class_{binary_class_names[i]}_specificity': metrics[\"specificity\"] for i, metrics in enumerate(class_metrics)},\n",
    "        **{f'class_{binary_class_names[i]}_f1': 2 * metrics[\"sensitivity\"] * metrics[\"specificity\"] / (metrics[\"sensitivity\"] + metrics[\"specificity\"]) for i, metrics in enumerate(class_metrics)},\n",
    "    }\n",
    "    \n",
    "    custom_log(metrics, model_name=f'dd_random_forest_{fold}', log_dir='logs_dd')\n",
    "    print(\"Metrics for this fold:\")\n",
    "    print(metrics)\n",
    "\n",
    "    # Plot confusion matrix for this fold\n",
    "    plot_confusion_matrix(cm, class_names=binary_class_names, epoch_num=0, model_name='dd_random_forest', fold_num=fold, save_dir='figures_dd')\n",
    "    \n",
    "    fold_results.append(metrics)\n",
    "\n",
    "# Calculate and print average results across all folds\n",
    "avg_results = {key: np.mean([fold[key] for fold in fold_results if key in fold]) \n",
    "               for key in fold_results[0].keys() if key != 'fold'}\n",
    "\n",
    "print(\"Average results across all folds:\")\n",
    "for key, value in avg_results.items():\n",
    "    print(f\"{key}: {value}\")\n",
    "\n",
    "# Log average results\n",
    "custom_log(avg_results, model_name='dd_random_forest_average', log_dir='logs_dd')"
   ]
  }
 ],
 "metadata": {
  "kernelspec": {
   "display_name": ".venv",
   "language": "python",
   "name": "python3"
  },
  "language_info": {
   "codemirror_mode": {
    "name": "ipython",
    "version": 3
   },
   "file_extension": ".py",
   "mimetype": "text/x-python",
   "name": "python",
   "nbconvert_exporter": "python",
   "pygments_lexer": "ipython3",
   "version": "3.11.2"
  }
 },
 "nbformat": 4,
 "nbformat_minor": 2
}
