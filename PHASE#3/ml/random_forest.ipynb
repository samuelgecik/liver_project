{
 "cells": [
  {
   "cell_type": "code",
   "execution_count": 2,
   "metadata": {},
   "outputs": [
    {
     "name": "stderr",
     "output_type": "stream",
     "text": [
      "/home/samo/dev/liver/.venv/lib/python3.11/site-packages/matplotlib/projections/__init__.py:63: UserWarning: Unable to import Axes3D. This may be due to multiple versions of Matplotlib being installed (e.g. as a system package and as a pip package). As a result, the 3D projection is not available.\n",
      "  warnings.warn(\"Unable to import Axes3D. This may be due to multiple versions of \"\n"
     ]
    }
   ],
   "source": [
    "import os\n",
    "from metrics import *\n",
    "import numpy as np\n",
    "from sklearn.model_selection import StratifiedKFold\n",
    "from sklearn.ensemble import RandomForestClassifier\n"
   ]
  },
  {
   "cell_type": "code",
   "execution_count": 3,
   "metadata": {},
   "outputs": [],
   "source": [
    "# Load features and labels\n",
    "X = np.load('../features.npy')\n",
    "y = np.load('../labels.npy')"
   ]
  },
  {
   "cell_type": "code",
   "execution_count": 4,
   "metadata": {},
   "outputs": [
    {
     "data": {
      "text/plain": [
       "((8724, 2048), (8724,))"
      ]
     },
     "execution_count": 4,
     "metadata": {},
     "output_type": "execute_result"
    }
   ],
   "source": [
    "# Reshape X to 2 dimensions\n",
    "X = X.reshape(X.shape[0], -1)\n",
    "X.shape, y.shape"
   ]
  },
  {
   "cell_type": "code",
   "execution_count": 5,
   "metadata": {},
   "outputs": [
    {
     "name": "stdout",
     "output_type": "stream",
     "text": [
      "Number of samples in each class:\n",
      "(array([0, 1, 2]), array([6232,  256, 2236]))\n"
     ]
    }
   ],
   "source": [
    "# Count the number of samples in each class\n",
    "print('Number of samples in each class:')\n",
    "print(np.unique(y, return_counts=True))"
   ]
  },
  {
   "cell_type": "code",
   "execution_count": 6,
   "metadata": {},
   "outputs": [],
   "source": [
    "os.makedirs('logs', exist_ok=True)\n",
    "os.makedirs('logs/best', exist_ok=True)\n",
    "os.makedirs('figures', exist_ok=True)"
   ]
  },
  {
   "cell_type": "code",
   "execution_count": 7,
   "metadata": {},
   "outputs": [
    {
     "name": "stdout",
     "output_type": "stream",
     "text": [
      "Average Accuracy: 0.9732867786920563\n",
      "Average AUC: 0.9886172476045987\n",
      "Average F1 Score: 0.972588539016568\n",
      "Average Sensitivity: 0.9521983838836576\n",
      "Average Specificity: 0.9757101040131102\n"
     ]
    }
   ],
   "source": [
    "# Initialize 10-fold cross-validation\n",
    "skf = StratifiedKFold(n_splits=10, shuffle=True, random_state=42)\n",
    "\n",
    "# Initialize a classifier (e.g., Random Forest)\n",
    "clf = RandomForestClassifier(random_state=42)\n",
    "\n",
    "# Perform cross-validation\n",
    "accuracies = []\n",
    "auc_scores = []\n",
    "f1_scores = []\n",
    "sensitivities = []\n",
    "specificities = []\n",
    "# Define class names\n",
    "class_names = [\"Few\", \"Many\", \"None\"]\n",
    "\n",
    "for fold, (train_index, val_index) in enumerate(skf.split(X, y), 1):\n",
    "    X_train, X_val = X[train_index], X[val_index]\n",
    "    y_train, y_val = y[train_index], y[val_index]\n",
    "    \n",
    "    clf.fit(X_train, y_train)\n",
    "    y_pred = clf.predict(X_val)\n",
    "    y_prob = clf.predict_proba(X_val)\n",
    "    \n",
    "    # Calculate metrics\n",
    "    accuracy, class_metrics, auc, f1, cm, avg_sensitivity, avg_specificity = calculate_metrics(y_val, y_pred, y_prob)\n",
    "\n",
    "\n",
    "    # Log metrics to custom logger\n",
    "    metrics = {\n",
    "        'fold': fold,\n",
    "        'val_accuracy': accuracy,\n",
    "        'val_auc': auc,\n",
    "        'val_f1': f1,\n",
    "        'avg_sensitivity': avg_sensitivity,\n",
    "        'avg_specificity': avg_specificity,\n",
    "        **{f'class_{class_names[i]}_sensitivity': metrics[\"sensitivity\"] for i, metrics in enumerate(class_metrics)},\n",
    "        **{f'class_{class_names[i]}_specificity': metrics[\"specificity\"] for i, metrics in enumerate(class_metrics)},\n",
    "        **{f'class_{class_names[i]}_f1': 2 * metrics[\"sensitivity\"] * metrics[\"specificity\"] / (metrics[\"sensitivity\"] + metrics[\"specificity\"]) for i, metrics in enumerate(class_metrics)}\n",
    "    }\n",
    "\n",
    "    custom_log(metrics, model_name='random_forest', log_dir='logs')\n",
    "\n",
    "    # Optionally, plot confusion matrix\n",
    "    plot_confusion_matrix(cm, class_names=class_names, epoch_num=0, model_name='random_forest', fold_num=fold)\n",
    "\n",
    "    accuracies.append(accuracy)\n",
    "    auc_scores.append(auc)\n",
    "    f1_scores.append(f1)\n",
    "    sensitivities.append(avg_sensitivity)\n",
    "    specificities.append(avg_specificity)\n",
    "    \n",
    "# Print average metrics\n",
    "print(f'Average Accuracy: {np.mean(accuracies)}')\n",
    "print(f'Average AUC: {np.mean(auc_scores)}')\n",
    "print(f'Average F1 Score: {np.mean(f1_scores)}')\n",
    "print(f'Average Sensitivity: {np.mean(sensitivities)}')\n",
    "print(f'Average Specificity: {np.mean(specificities)}')"
   ]
  }
 ],
 "metadata": {
  "kernelspec": {
   "display_name": ".venv",
   "language": "python",
   "name": "python3"
  },
  "language_info": {
   "codemirror_mode": {
    "name": "ipython",
    "version": 3
   },
   "file_extension": ".py",
   "mimetype": "text/x-python",
   "name": "python",
   "nbconvert_exporter": "python",
   "pygments_lexer": "ipython3",
   "version": "3.11.2"
  }
 },
 "nbformat": 4,
 "nbformat_minor": 2
}
